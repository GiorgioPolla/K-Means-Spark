{
 "cells": [
  {
   "cell_type": "markdown",
   "metadata": {},
   "source": [
    "# Parallel K-Means Clustering Algorithm on Spark\n",
    "\n",
    "Author: **Giorgio Polla**  \n",
    "Date: **21/11/2019**  \n",
    "\n",
    "Implementation of the K-Means clustering algorithm on Spark, with Python.  \n",
    "The algorithm is tested using the famous Iris dataset (available on Kaggle at https://www.kaggle.com/uciml/iris), and against Sklearn's implementation of K-Means.\n"
   ]
  },
  {
   "cell_type": "markdown",
   "metadata": {},
   "source": [
    "### Libraries and constants\n",
    "\n",
    "Import of the following libraries:  \n",
    "* `time` to track the time performance of the implementation;  \n",
    "* `pyspark` to utilize *Spark*;  \n",
    "* `pandas` to manipulate dataframes for the sklearn comparison;\n",
    "* `numpy` to easily operate with number arrays;  \n",
    "* `matplotlib` to plot graphs;  \n",
    "* `sklearn` for preprocessing and for comparing the results obtained;  \n",
    "* `scipy` to add interpolation to plotted graphs.  \n",
    "\n",
    "Moreover, some operative constants used in the following are defined, regarding input and output paths and formats, and the maximum number of workers and partitions utilised by _Spark_."
   ]
  },
  {
   "cell_type": "code",
   "execution_count": 1,
   "metadata": {},
   "outputs": [],
   "source": [
    "import time\n",
    "import pyspark\n",
    "import pandas as pd\n",
    "import numpy as np\n",
    "import matplotlib.pyplot as plt\n",
    "from operator import itemgetter\n",
    "from sklearn import preprocessing\n",
    "from sklearn.cluster import KMeans\n",
    "from scipy.interpolate import make_interp_spline\n",
    "\n",
    "FILE_PATH = '../data/iris'\n",
    "OUT_PATH = '../out/'\n",
    "IMG_FORMAT = 'png'\n",
    "N_WORKERS = 8\n",
    "N_PARTITIONS = 8"
   ]
  },
  {
   "cell_type": "markdown",
   "metadata": {},
   "source": [
    "### File reading\n",
    "The dataset is loaded as an RDD, using the `textFile()` function.  \n",
    "The RDD is then manipulated in order to have each record divided in a features array ( gathered in **rdd_x**), and a label (grouped in **rdd_y)**."
   ]
  },
  {
   "cell_type": "code",
   "execution_count": 2,
   "metadata": {},
   "outputs": [],
   "source": [
    "def read_file(file_path):\n",
    "    rdd = sc.textFile(file_path, N_PARTITIONS)\n",
    "    \n",
    "    rdd = rdd.map(\n",
    "        lambda x:\n",
    "            x.split()\n",
    "    )\n",
    "    \n",
    "    rdd_x = rdd.map(\n",
    "        lambda x: \n",
    "            np.array([float(el) for el in x[:-1]])\n",
    "    )\n",
    "    \n",
    "    rdd_y = rdd.map(\n",
    "        lambda x:           \n",
    "            x[-1]\n",
    "    )\n",
    "    return rdd_x, rdd_y"
   ]
  },
  {
   "cell_type": "markdown",
   "metadata": {},
   "source": [
    "### Standardisation\n",
    "Each row of the RDD is standardised; this is done by first obtaining the mean for each column, then obtaining the standard deviation for them, and finally applying the standardisation formula.  "
   ]
  },
  {
   "cell_type": "code",
   "execution_count": 3,
   "metadata": {},
   "outputs": [],
   "source": [
    "def standardise(rdd):    \n",
    "    n_rows = rdd.count()\n",
    "    \n",
    "    col_sum = rdd.reduce(\n",
    "        lambda x, y:\n",
    "            [sum(el) for el in zip(x, y)]\n",
    "    )\n",
    "    mean = np.divide(col_sum, n_rows)\n",
    "    \n",
    "    variance = rdd.map(\n",
    "        lambda x: np.square(x - mean)\n",
    "    ).reduce(\n",
    "        lambda x, y:\n",
    "            [sum(el) for el in zip(x, y)]\n",
    "    )\n",
    "    std_dev = np.sqrt(np.divide(variance, n_rows))\n",
    "    \n",
    "    rdd = rdd.map(\n",
    "        lambda x:\n",
    "            np.divide((x - mean), std_dev)\n",
    "    )\n",
    "    \n",
    "    return rdd"
   ]
  },
  {
   "cell_type": "markdown",
   "metadata": {},
   "source": [
    "### Clustering process\n",
    "The clustering follows the typical K-Means fashion, with some adjustments to exploit the Spark parallelisation.  \n",
    "It is worth noting that the notation is consistent, and in particular:  \n",
    "* **rdd** is an RDD containing the records on operate the clustering;\n",
    "* **k** is the number of cluster setted to identify;  \n",
    "* **c** is a centroid (float array);  \n",
    "* **x** is the feature array of one data point (float array);  \n",
    "* **centroids** is the array of centroids (array of **c**);  \n",
    "\n",
    "In the first section there are the support functions for the proper clustering phase.  \n",
    "* `init_rdd()` intialises the rdd, assigning every record to the fake cluster *-1*;  \n",
    "* `init_centroids()` calculates and returns the intialised centroid array of **c**, either extracting random records from the rdd, or exctracting the first **k** records, depending on the user preferences;  \n",
    "* `calc_distance()` calculates the distance between a centroid **c** and a data point which features are in **x**; now only the *'euclidean'* distance is implemented;  \n",
    "* `assign_cluster()` calculates the appropriate cluster for a data point which features are in **x**, according to its distance to the current **centroids**;  \n",
    "* `refine_clusters()` assigns every element of an **rdd** to a specific cluster, according to the current **centroids**;  \n",
    "* `calculate_centroids()` calculates the position of the new centroids, by taking the mean position of all the elements in the **rdd** belonging to a specific cluser.  \n",
    "* `cluster_variance()` calculates the cumulative distance of every data point in the **rdd** with respect to the centroid of the cluster it belongs to.  \n",
    "\n",
    "**Note**: the distance selection, due to the many steps required until the reaching of the actual `calc_distance()` function, is passed as an additional argument in the previous functions."
   ]
  },
  {
   "cell_type": "code",
   "execution_count": 4,
   "metadata": {},
   "outputs": [],
   "source": [
    "def init_rdd(rdd):\n",
    "    rdd = rdd.map(\n",
    "        lambda x: (\n",
    "            -1,\n",
    "            x\n",
    "        )\n",
    "    )\n",
    "    return rdd\n",
    "\n",
    "\n",
    "def init_centroids(rdd, k, random=True):\n",
    "    if random:\n",
    "        return rdd.takeSample(False, k)\n",
    "    return rdd.take(k)\n",
    "    \n",
    "    \n",
    "def calc_distance(c, x, dist_type='euclidean'):\n",
    "    print(dist_type)\n",
    "    if dist_type == 'euclidean':\n",
    "        return np.linalg.norm(c - x)\n",
    "    else:\n",
    "        raise Exception('Distance Type not recognized.')\n",
    "        sys.exit()\n",
    "    \n",
    "    \n",
    "def assign_cluster(centroids, x, *args, **kwargs):\n",
    "    distances = [calc_distance(c, x, dist_type=args[0]) for c in centroids]\n",
    "    min_index = np.argmin(distances)    \n",
    "    return min_index\n",
    "\n",
    "\n",
    "def redefine_clusters(rdd, centroids, *args, **kwargs):\n",
    "    rdd = rdd.map(\n",
    "        lambda x: (\n",
    "            assign_cluster(centroids, x[1], args[0]),\n",
    "            x[1]\n",
    "        )\n",
    "    )\n",
    "    return rdd\n",
    "\n",
    "    \n",
    "def calculate_centroids(rdd):\n",
    "    centroids = rdd.map(\n",
    "        lambda x: (\n",
    "            x[0], (\n",
    "                x[1],\n",
    "                1\n",
    "            )\n",
    "        )\n",
    "    ).reduceByKey(\n",
    "        lambda x, y: (\n",
    "            x[0] + y[0],\n",
    "            x[1] + y[1]\n",
    "        )\n",
    "    ).map(\n",
    "        lambda x: [\n",
    "            x[0],\n",
    "            x[1][0] / x[1][1]\n",
    "        ]\n",
    "    ).collect()\n",
    "    \n",
    "    centroids = [el[1] for el in sorted(centroids, key=itemgetter(0))]\n",
    "    return np.array(centroids)\n",
    "\n",
    "\n",
    "def cluster_variance(rdd, centroids, *args, **kwargs):\n",
    "    variance = rdd.map(\n",
    "        lambda x: \n",
    "            calc_distance(centroids[x[0]], x[1], args[0])\n",
    "    ).reduce(\n",
    "        lambda x, y:\n",
    "            x + y\n",
    "    )\n",
    "    \n",
    "    return variance    "
   ]
  },
  {
   "cell_type": "markdown",
   "metadata": {},
   "source": [
    "The proper clustering process takes the additional parameters:  \n",
    "* **iterations**, the maximum number of iterations to go though;\n",
    "* **tolerance**, the minimum cumulative distance the centroids have to move in a single iteration to not interrupt the process;  \n",
    "* **n_init**, the number of initialisations to repeat;  \n",
    "* **random_init**, deciding whether to randomly initialise the centroids. If set to *False*, for obvious reasons **n_init** is set to one.\n",
    "* **distance_metric** between centroids and data points. Right now only *'euclidean'* is implemented;\n",
    "* **verbose**, influencing the amount of information printed during the process;\n",
    "\n",
    "The clusteiring phase proceeds inside the main iteration loop by redifing the clusters according the the current centroids, the calculating the new centroids according to the previous clusterisation. If the distance between the new and the old clusters is below the **tolerance** threshold, the process is considered converged and the loop in exited.  \n",
    "\n",
    "Another external loop manages how many times the whole process is to be repeatd, with different initializations. At each step, the cumulative distance, the predicted array and the centroid position is recorded and at the end only the ones related to the initialisation with less cuulative distance are returned."
   ]
  },
  {
   "cell_type": "code",
   "execution_count": 5,
   "metadata": {},
   "outputs": [],
   "source": [
    "def k_means(rdd_x, k, iterations=20, tolerance=0.001, \n",
    "            n_init=5, random_init=True, \n",
    "            distance_metric='euclidean', verbose=False):\n",
    "    if k > rdd_x.count():\n",
    "        print('Invalid K: too big!')\n",
    "        return\n",
    "    print('Starting: %d inits\\t|\\t%d partitions\\n' % \n",
    "          (n_init, rdd_x.getNumPartitions()))\n",
    "    init_time = time.time()\n",
    "    y_arr = []\n",
    "    cent_arr = []\n",
    "    variance_arr = []\n",
    "    \n",
    "    if random_init == False:\n",
    "        n_init = 1\n",
    "    \n",
    "    for trial in range(n_init):\n",
    "        start_time = time.time()\n",
    "\n",
    "        centroids = init_centroids(rdd_x, k, random=random_init)\n",
    "        rdd = init_rdd(rdd_x)\n",
    "        n_rows = rdd.count()\n",
    "        for it in range(iterations):\n",
    "            rdd = redefine_clusters(rdd, centroids, distance_metric)\n",
    "\n",
    "            new_centroids = calculate_centroids(rdd)\n",
    "            \n",
    "            delta = np.linalg.norm(\n",
    "                new_centroids - centroids[:len(new_centroids)]\n",
    "            )\n",
    "            \n",
    "            if (delta < tolerance):\n",
    "                print('%d. Converged.\\t|\\t' % (trial + 1), end='')\n",
    "                break\n",
    "            centroids = new_centroids\n",
    "\n",
    "            if verbose and it % 5 == 0:\n",
    "                print('It: %2d\\t|\\tDelta: %0.4f' % (it, delta))\n",
    "\n",
    "        y = rdd.map(\n",
    "            lambda x:\n",
    "                x[0]\n",
    "        ).collect()\n",
    "        \n",
    "        total_time = time.time() - start_time\n",
    "        \n",
    "        y_arr.append(y)\n",
    "        cent_arr.append(centroids)\n",
    "        variance_arr.append(cluster_variance(rdd, centroids, distance_metric))\n",
    "        print('Variance: %0.2f\\t|\\tTime: %0.2fs' % \n",
    "              (variance_arr[-1], total_time)\n",
    "        )\n",
    "    \n",
    "    index = np.argmin(variance_arr)\n",
    "    y = y_arr[index]\n",
    "    finish_time = time.time() - init_time\n",
    "    \n",
    "    print('\\nFinished in %0.2f s.\\t|\\tChosen init %d.' %\n",
    "          (finish_time, (index + 1)))\n",
    "    if verbose:\n",
    "        [print('Cluster %d: %d' % (n, y.count(n))) \\\n",
    "            for n in sorted(np.unique(y))]\n",
    "        \n",
    "    return y, cent_arr[index], finish_time"
   ]
  },
  {
   "cell_type": "markdown",
   "metadata": {},
   "source": [
    "### Clustering Execution\n",
    "The following code starts the _Spark_ context with the proper number of workers, reads the file and standardises the records.  \n",
    "\n",
    "Afteerwards, the clustering algorithm is run."
   ]
  },
  {
   "cell_type": "code",
   "execution_count": 6,
   "metadata": {},
   "outputs": [
    {
     "name": "stdout",
     "output_type": "stream",
     "text": [
      "Initialise Spark Context\n"
     ]
    }
   ],
   "source": [
    "if 'sc' in locals():\n",
    "    print('Restart Spark Context')\n",
    "    sc.stop()\n",
    "else:\n",
    "    print('Initialise Spark Context')\n",
    "sc = pyspark.SparkContext('local[' + str(N_WORKERS) + ']')\n",
    "\n",
    "rdd_x, rdd_y = read_file(FILE_PATH)\n",
    "rdd_x = standardise(rdd_x)"
   ]
  },
  {
   "cell_type": "code",
   "execution_count": 7,
   "metadata": {},
   "outputs": [
    {
     "name": "stdout",
     "output_type": "stream",
     "text": [
      "Starting: 5 inits\t|\t8 partitions\n",
      "\n",
      "1. Converged.\t|\tVariance: 129.95\t|\tTime: 3.81s\n",
      "2. Converged.\t|\tVariance: 129.89\t|\tTime: 2.17s\n",
      "3. Converged.\t|\tVariance: 147.87\t|\tTime: 1.38s\n",
      "4. Converged.\t|\tVariance: 129.95\t|\tTime: 1.52s\n",
      "5. Converged.\t|\tVariance: 129.62\t|\tTime: 1.12s\n",
      "\n",
      "Finished in 10.75 s.\t|\tChosen init 5.\n"
     ]
    }
   ],
   "source": [
    "y, ctrd, tot_time = k_means(rdd_x, 3, random_init=True)"
   ]
  },
  {
   "cell_type": "markdown",
   "metadata": {},
   "source": [
    "### Sklearn K-Means\n",
    "Here is executed the comparison with the results obtained by the K-Means implementation available in the Sklearn library.\n",
    "The file is read again, this time using _Pandas_, and the clustering algorithm is applied.  \n",
    "The results are then plotted in the space composed by the fisrt two features."
   ]
  },
  {
   "cell_type": "code",
   "execution_count": 29,
   "metadata": {},
   "outputs": [
    {
     "name": "stdout",
     "output_type": "stream",
     "text": [
      "0: 48, 1: 50, 2: 52\n"
     ]
    },
    {
     "data": {
      "image/png": "[encoded data removed]",
      "text/plain": [
       "<Figure size 432x288 with 1 Axes>"
      ]
     },
     "metadata": {},
     "output_type": "display_data"
    }
   ],
   "source": [
    "df = pd.read_csv(FILE_PATH + '.csv').iloc[:,:-1]\n",
    "x = df.values\n",
    "standard_scaler = preprocessing.StandardScaler()\n",
    "x = standard_scaler.fit_transform(x)\n",
    "\n",
    "km = KMeans(n_clusters=3)\n",
    "km.fit(x)\n",
    "y_kmeans = km.predict(x)\n",
    "\n",
    "plt.scatter(x[:, 0], x[:, 1], c=y_kmeans, s=50, cmap='viridis')\n",
    "ys = list(y_kmeans)\n",
    "print('0: %2d, 1: %2d, 2: %2d' % (ys.count(0), ys.count(1), ys.count(2)))\n",
    "\n",
    "centers = km.cluster_centers_\n",
    "plt.scatter(centers[:, 0], centers[:, 1], c='black', s=200, alpha=0.5);"
   ]
  },
  {
   "cell_type": "markdown",
   "metadata": {},
   "source": [
    "Here the results of the Spark K-Means algorithm are plotted, in order to have a meaningful graphical comparison with the results above."
   ]
  },
  {
   "cell_type": "code",
   "execution_count": 31,
   "metadata": {},
   "outputs": [
    {
     "data": {
      "image/png": "[encoded data removed]",
      "text/plain": [
       "<Figure size 432x288 with 1 Axes>"
      ]
     },
     "metadata": {},
     "output_type": "display_data"
    }
   ],
   "source": [
    "plt.scatter(x[:, 0], x[:, 1], c=y, s=50, cmap='viridis')\n",
    "plt.scatter(ctrd[:, 0], ctrd[:, 1], c='black', s=200, alpha=0.5);"
   ]
  },
  {
   "cell_type": "markdown",
   "metadata": {},
   "source": [
    "Finally, the cumulative distance of the Spark and K-Means centroids is calculated and printed."
   ]
  },
  {
   "cell_type": "code",
   "execution_count": 10,
   "metadata": {},
   "outputs": [
    {
     "name": "stdout",
     "output_type": "stream",
     "text": [
      "Total centroid distance error: 0.0773\n"
     ]
    }
   ],
   "source": [
    "centr_sklearn = np.array(sorted(centers, key=itemgetter(0)))\n",
    "centr_this = np.array(sorted(ctrd, key=itemgetter(0)))\n",
    "                       \n",
    "print('Total centroid distance error: %0.4f' %\n",
    "       np.sum(abs(centr_this - centr_sklearn)))"
   ]
  },
  {
   "cell_type": "markdown",
   "metadata": {},
   "source": [
    "### Performance and Speed Up Curves\n",
    "The main code below re-runs multiple times the main custering process for a standard of 10 initialisations, recording the time required qith a different number of workers assigned, while maintaining a total of 8 partitions in the **rdd**."
   ]
  },
  {
   "cell_type": "code",
   "execution_count": 11,
   "metadata": {},
   "outputs": [
    {
     "name": "stdout",
     "output_type": "stream",
     "text": [
      "Starting: 10 inits\t|\t8 partitions\n",
      "\n",
      "1. Converged.\t|\tVariance: 129.89\t|\tTime: 11.39s\n",
      "2. Converged.\t|\tVariance: 129.95\t|\tTime: 8.67s\n",
      "3. Converged.\t|\tVariance: 129.58\t|\tTime: 7.63s\n",
      "4. Converged.\t|\tVariance: 129.62\t|\tTime: 8.71s\n",
      "5. Converged.\t|\tVariance: 149.03\t|\tTime: 9.61s\n",
      "6. Converged.\t|\tVariance: 129.89\t|\tTime: 11.00s\n",
      "7. Converged.\t|\tVariance: 129.89\t|\tTime: 6.78s\n",
      "8. Converged.\t|\tVariance: 149.03\t|\tTime: 15.39s\n",
      "9. Converged.\t|\tVariance: 129.95\t|\tTime: 8.68s\n",
      "10. Converged.\t|\tVariance: 129.95\t|\tTime: 12.98s\n",
      "\n",
      "Finished in 106.72 s.\t|\tChosen init 3.\n",
      "-----\n",
      "Starting: 10 inits\t|\t8 partitions\n",
      "\n",
      "1. Converged.\t|\tVariance: 129.95\t|\tTime: 4.84s\n",
      "2. Converged.\t|\tVariance: 129.62\t|\tTime: 3.01s\n",
      "3. Converged.\t|\tVariance: 129.62\t|\tTime: 4.27s\n",
      "4. Converged.\t|\tVariance: 129.95\t|\tTime: 5.73s\n",
      "5. Converged.\t|\tVariance: 129.67\t|\tTime: 4.20s\n",
      "6. Converged.\t|\tVariance: 129.62\t|\tTime: 5.26s\n",
      "7. Converged.\t|\tVariance: 129.89\t|\tTime: 4.95s\n",
      "8. Converged.\t|\tVariance: 129.89\t|\tTime: 4.92s\n",
      "9. Converged.\t|\tVariance: 129.95\t|\tTime: 5.43s\n",
      "10. Converged.\t|\tVariance: 129.89\t|\tTime: 5.31s\n",
      "\n",
      "Finished in 50.84 s.\t|\tChosen init 2.\n",
      "-----\n",
      "Starting: 10 inits\t|\t8 partitions\n",
      "\n",
      "1. Converged.\t|\tVariance: 129.89\t|\tTime: 5.50s\n",
      "2. Converged.\t|\tVariance: 129.95\t|\tTime: 5.40s\n",
      "3. Converged.\t|\tVariance: 129.89\t|\tTime: 4.31s\n",
      "4. Converged.\t|\tVariance: 129.95\t|\tTime: 4.33s\n",
      "5. Converged.\t|\tVariance: 129.62\t|\tTime: 3.63s\n",
      "6. Converged.\t|\tVariance: 147.59\t|\tTime: 3.38s\n",
      "7. Converged.\t|\tVariance: 129.95\t|\tTime: 4.49s\n",
      "8. Converged.\t|\tVariance: 159.64\t|\tTime: 5.11s\n",
      "9. Converged.\t|\tVariance: 129.89\t|\tTime: 4.52s\n",
      "10. Converged.\t|\tVariance: 129.89\t|\tTime: 3.31s\n",
      "\n",
      "Finished in 46.18 s.\t|\tChosen init 5.\n",
      "-----\n",
      "Starting: 10 inits\t|\t8 partitions\n",
      "\n",
      "1. Converged.\t|\tVariance: 129.95\t|\tTime: 3.45s\n",
      "2. Converged.\t|\tVariance: 149.03\t|\tTime: 1.77s\n",
      "3. Converged.\t|\tVariance: 129.95\t|\tTime: 3.26s\n",
      "4. Converged.\t|\tVariance: 129.89\t|\tTime: 3.41s\n",
      "5. Converged.\t|\tVariance: 129.89\t|\tTime: 4.72s\n",
      "6. Converged.\t|\tVariance: 129.89\t|\tTime: 3.84s\n",
      "7. Converged.\t|\tVariance: 129.95\t|\tTime: 3.36s\n",
      "8. Converged.\t|\tVariance: 129.89\t|\tTime: 3.91s\n",
      "9. Converged.\t|\tVariance: 129.89\t|\tTime: 2.29s\n",
      "10. Converged.\t|\tVariance: 129.89\t|\tTime: 4.37s\n",
      "\n",
      "Finished in 36.26 s.\t|\tChosen init 4.\n",
      "-----\n",
      "Starting: 10 inits\t|\t8 partitions\n",
      "\n",
      "1. Converged.\t|\tVariance: 149.03\t|\tTime: 3.80s\n",
      "2. Converged.\t|\tVariance: 129.89\t|\tTime: 3.43s\n",
      "3. Converged.\t|\tVariance: 129.87\t|\tTime: 1.70s\n",
      "4. Converged.\t|\tVariance: 129.58\t|\tTime: 3.01s\n",
      "5. Converged.\t|\tVariance: 149.03\t|\tTime: 4.36s\n",
      "6. Converged.\t|\tVariance: 129.62\t|\tTime: 2.73s\n",
      "7. Converged.\t|\tVariance: 149.03\t|\tTime: 1.68s\n",
      "8. Converged.\t|\tVariance: 129.95\t|\tTime: 2.37s\n",
      "9. Converged.\t|\tVariance: 129.87\t|\tTime: 2.76s\n",
      "10. Converged.\t|\tVariance: 129.89\t|\tTime: 4.27s\n",
      "\n",
      "Finished in 31.57 s.\t|\tChosen init 4.\n",
      "-----\n",
      "Starting: 10 inits\t|\t8 partitions\n",
      "\n",
      "1. Converged.\t|\tVariance: 129.58\t|\tTime: 2.90s\n",
      "2. Converged.\t|\tVariance: 129.62\t|\tTime: 2.03s\n",
      "3. Converged.\t|\tVariance: 149.03\t|\tTime: 2.83s\n",
      "4. Converged.\t|\tVariance: 129.89\t|\tTime: 2.79s\n",
      "5. Converged.\t|\tVariance: 129.89\t|\tTime: 2.19s\n",
      "6. Converged.\t|\tVariance: 129.89\t|\tTime: 2.19s\n",
      "7. Converged.\t|\tVariance: 129.58\t|\tTime: 2.67s\n",
      "8. Converged.\t|\tVariance: 129.58\t|\tTime: 3.18s\n",
      "9. Converged.\t|\tVariance: 129.95\t|\tTime: 2.98s\n",
      "10. Converged.\t|\tVariance: 129.58\t|\tTime: 2.60s\n",
      "\n",
      "Finished in 27.66 s.\t|\tChosen init 1.\n",
      "-----\n",
      "Starting: 10 inits\t|\t8 partitions\n",
      "\n",
      "1. Converged.\t|\tVariance: 129.89\t|\tTime: 2.50s\n",
      "2. Converged.\t|\tVariance: 129.58\t|\tTime: 2.13s\n",
      "3. Converged.\t|\tVariance: 149.03\t|\tTime: 2.20s\n",
      "4. Converged.\t|\tVariance: 129.58\t|\tTime: 2.52s\n",
      "5. Converged.\t|\tVariance: 129.58\t|\tTime: 2.16s\n",
      "6. Converged.\t|\tVariance: 149.03\t|\tTime: 2.05s\n",
      "7. Converged.\t|\tVariance: 129.89\t|\tTime: 2.40s\n",
      "8. Converged.\t|\tVariance: 129.95\t|\tTime: 1.80s\n",
      "9. Converged.\t|\tVariance: 129.89\t|\tTime: 3.17s\n",
      "10. Converged.\t|\tVariance: 129.95\t|\tTime: 2.69s\n",
      "\n",
      "Finished in 24.80 s.\t|\tChosen init 2.\n",
      "-----\n",
      "Starting: 10 inits\t|\t8 partitions\n",
      "\n",
      "1. Converged.\t|\tVariance: 129.89\t|\tTime: 2.60s\n",
      "2. Converged.\t|\tVariance: 129.89\t|\tTime: 1.99s\n",
      "3. Converged.\t|\tVariance: 129.89\t|\tTime: 2.26s\n",
      "4. Converged.\t|\tVariance: 129.89\t|\tTime: 1.96s\n",
      "5. Converged.\t|\tVariance: 129.58\t|\tTime: 1.52s\n",
      "6. Converged.\t|\tVariance: 129.89\t|\tTime: 2.34s\n",
      "7. Converged.\t|\tVariance: 129.95\t|\tTime: 1.30s\n",
      "8. Converged.\t|\tVariance: 129.89\t|\tTime: 2.04s\n",
      "9. Converged.\t|\tVariance: 129.95\t|\tTime: 2.00s\n",
      "10. Converged.\t|\tVariance: 129.58\t|\tTime: 2.59s\n",
      "\n",
      "Finished in 21.70 s.\t|\tChosen init 5.\n",
      "-----\n",
      "Ended.\n"
     ]
    }
   ],
   "source": [
    "worker_list = list(range(1, N_WORKERS + 1))\n",
    "time_list = []\n",
    "n_init = 10\n",
    "\n",
    "for workers in worker_list:\n",
    "    if 'sc' in locals():\n",
    "        sc.stop()\n",
    "    sc = pyspark.SparkContext('local[' + str(workers) + ']')\n",
    "\n",
    "    rdd, _ = read_file(FILE_PATH)\n",
    "    rdd = standardise(rdd)\n",
    "\n",
    "    _, _, tmp_time = k_means(rdd, 3, n_init=n_init)\n",
    "    time_list.append(tmp_time)\n",
    "    print('-----')\n",
    "print('Ended.')"
   ]
  },
  {
   "cell_type": "markdown",
   "metadata": {},
   "source": [
    "This functions plots and eventually saves the performance curve, given the array of times required previously obtained. The parameter **interpolate** allows to manage the line interpolation.  \n",
    "\n",
    "The function is the run."
   ]
  },
  {
   "cell_type": "code",
   "execution_count": 20,
   "metadata": {},
   "outputs": [],
   "source": [
    "def performance_curve(time_array, n_init, save=False, interpolate=True):\n",
    "    t = np.array(time_array.copy())\n",
    "    x_axis = [x for x in range(1, N_WORKERS + 1)]\n",
    "    \n",
    "    if interpolate: \n",
    "        spl = make_interp_spline(x_axis, t, k=3)\n",
    "        x_axis = np.linspace(1, N_WORKERS, 300)\n",
    "        t = spl(x_axis)\n",
    "\n",
    "    plt.plot(x_axis, t, linewidth=2)\n",
    "    plt.gcf().subplots_adjust(bottom=0.1)\n",
    "    plt.style.use('seaborn-darkgrid')\n",
    "    plt.title('Performance Curve')\n",
    "    plt.xlabel('Workers')\n",
    "    plt.ylabel('Time (s)')\n",
    "    if save:\n",
    "        if interpolate:\n",
    "            name = 'performance_curve_int.'\n",
    "        else:\n",
    "            name = 'performance_curve.'\n",
    "        plt.savefig(OUT_PATH + str(n_init)  + 'it-' + name + IMG_FORMAT)\n",
    "    plt.show()"
   ]
  },
  {
   "cell_type": "code",
   "execution_count": 27,
   "metadata": {},
   "outputs": [
    {
     "data": {
      "image/png": "[encoded data removed]",
      "text/plain": [
       "<Figure size 432x288 with 1 Axes>"
      ]
     },
     "metadata": {},
     "output_type": "display_data"
    }
   ],
   "source": [
    "performance_curve(time_list, n_init, save=True, interpolate=False)"
   ]
  },
  {
   "cell_type": "markdown",
   "metadata": {},
   "source": [
    "This functions plots and eventually saves the speed up curve, given the array of times required previously obtained. The parameter **interpolate** allows to manage the line interpolation.\n",
    "\n",
    "The function in then run."
   ]
  },
  {
   "cell_type": "code",
   "execution_count": 23,
   "metadata": {},
   "outputs": [],
   "source": [
    "def speed_up_curve(time_array, n_init, save=False, interpolate=True):\n",
    "    t = [time_array[0]/x for x in time_array]\n",
    "    x_axis = [x for x in range(1, N_WORKERS + 1)]\n",
    "    \n",
    "    if interpolate: \n",
    "        spl = make_interp_spline(x_axis, t, k=3)\n",
    "        x_axis = np.linspace(1, N_WORKERS, 300)\n",
    "        t = spl(x_axis)\n",
    "\n",
    "    plt.plot(x_axis, t, linewidth=2)\n",
    "    plt.gcf().subplots_adjust(bottom=0.1)\n",
    "    plt.style.use('seaborn-darkgrid')\n",
    "    plt.title('Speed Up Curve')\n",
    "    plt.xlabel('Workers')\n",
    "    plt.ylabel('Time ratio')\n",
    "    if save:\n",
    "        if interpolate:\n",
    "            name = 'speed_up_curve_int-'\n",
    "        else:\n",
    "            name = 'speed_up_curve-'\n",
    "        plt.savefig(OUT_PATH + str(n_init)  + 'it-' + name + IMG_FORMAT)\n",
    "    plt.show()"
   ]
  },
  {
   "cell_type": "code",
   "execution_count": 26,
   "metadata": {},
   "outputs": [
    {
     "data": {
      "image/png": "[encoded data removed]",
      "text/plain": [
       "<Figure size 432x288 with 1 Axes>"
      ]
     },
     "metadata": {},
     "output_type": "display_data"
    }
   ],
   "source": [
    "speed_up_curve(time_list, n_init)"
   ]
  },
  {
   "cell_type": "code",
   "execution_count": null,
   "metadata": {},
   "outputs": [],
   "source": []
  }
 ],
 "metadata": {
  "kernelspec": {
   "display_name": "Python 3",
   "language": "python",
   "name": "python3"
  },
  "language_info": {
   "codemirror_mode": {
    "name": "ipython",
    "version": 3
   },
   "file_extension": ".py",
   "mimetype": "text/x-python",
   "name": "python",
   "nbconvert_exporter": "python",
   "pygments_lexer": "ipython3",
   "version": "3.7.4"
  }
 },
 "nbformat": 4,
 "nbformat_minor": 2
}
