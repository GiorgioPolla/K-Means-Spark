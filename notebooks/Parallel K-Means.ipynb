{
 "cells": [
  {
   "cell_type": "markdown",
   "metadata": {},
   "source": [
    "# Parallel K-Means Clustering Algorithm on Spark\n",
    "\n",
    "Author: **Giorgio Polla**  \n",
    "Date: **21/11/2019**  \n",
    "\n",
    "Implementation of the K-Means clustering algorithm on Spark, with Python.  \n",
    "The algorithm is tested:  \n",
    "* using generated data;  \n",
    "* using the famous Iris dataset (available on Kaggle at https://www.kaggle.com/uciml/iris), and against Sklearn's implementation of K-Means.  \n",
    "\n"
   ]
  },
  {
   "cell_type": "markdown",
   "metadata": {},
   "source": [
    "### Libraries and constants\n",
    "\n",
    "Import of the following libraries:  \n",
    "* `time` to track the time performance of the implementation;  \n",
    "* `pyspark` to utilize *Spark*;  \n",
    "* `pandas` to manipulate dataframes for the sklearn comparison;\n",
    "* `numpy` to easily operate with number arrays;  \n",
    "* `matplotlib` to plot graphs;\n",
    "* `operator.itemgetter` to easily sort the centroids.  \n",
    "\n",
    "Moreover, some operative constants used in the following are defined, regarding input and output paths and formats, and the maximum number of workers and partitions utilised by _Spark_."
   ]
  },
  {
   "cell_type": "code",
   "execution_count": 1,
   "metadata": {},
   "outputs": [],
   "source": [
    "import time\n",
    "import pyspark\n",
    "import pandas as pd\n",
    "import numpy as np\n",
    "import matplotlib.pyplot as plt\n",
    "from operator import itemgetter\n",
    "\n",
    "FILE_PATH = '../data/iris'\n",
    "OUT_PATH = '../out/'\n",
    "IMG_FORMAT = 'png'\n",
    "N_WORKERS = 8\n",
    "\n",
    "POINTS_PER_CLUSTER=100\n",
    "BASE_POINTS = [\n",
    "    (1,2),\n",
    "    (3,4),\n",
    "    (-5,3)\n",
    "]"
   ]
  },
  {
   "cell_type": "markdown",
   "metadata": {},
   "source": [
    "The two following functions are used to generate random points starting from some base points, and a distribution (here a gaussian of mean 1 and standard deviation **std** customisable by the user."
   ]
  },
  {
   "cell_type": "code",
   "execution_count": 2,
   "metadata": {},
   "outputs": [],
   "source": [
    "def generate_points(\n",
    "    n_points=POINTS_PER_CLUSTER,\n",
    "    base_points=BASE_POINTS,\n",
    "    std=0.3\n",
    "):\n",
    "    # Centroids computed by K-means should match base_points\n",
    "    points=[]\n",
    "    for i in base_points:\n",
    "        for j in range(n_points):\n",
    "            p = (\n",
    "                i[0]*np.random.normal(1, std),\n",
    "                i[1]*np.random.normal(1, std)\n",
    "            )\n",
    "            points.append(np.array(p))\n",
    "    points=np.array(points)\n",
    "    \n",
    "    return base_points, points\n",
    "\n",
    "def rdd_from_points(points):\n",
    "    rdd = sc.parallelize(points).cache()\n",
    "    return rdd"
   ]
  },
  {
   "cell_type": "markdown",
   "metadata": {},
   "source": [
    "### File reading\n",
    "The dataset is loaded as an RDD, using the `textFile()` function.  \n",
    "The RDD is then manipulated in order to have each record divided in a features array ( gathered in **rdd_x**), and a label (grouped in **rdd_y)**."
   ]
  },
  {
   "cell_type": "code",
   "execution_count": 3,
   "metadata": {},
   "outputs": [],
   "source": [
    "def read_file(file_path):\n",
    "    rdd = sc.textFile(file_path)\n",
    "    \n",
    "    rdd = rdd.map(\n",
    "        lambda x:\n",
    "            x.split()\n",
    "    )\n",
    "    \n",
    "    rdd_x = rdd.map(\n",
    "        lambda x: \n",
    "            np.array([float(el) for el in x[:-1]])\n",
    "    )\n",
    "    \n",
    "    rdd_y = rdd.map(\n",
    "        lambda x:           \n",
    "            x[-1]\n",
    "    )\n",
    "    return rdd_x, rdd_y"
   ]
  },
  {
   "cell_type": "markdown",
   "metadata": {},
   "source": [
    "### Standardisation\n",
    "Each row of the RDD is standardised; this is done by first obtaining the mean for each column, then obtaining the standard deviation for them, and finally applying the standardisation formula.  "
   ]
  },
  {
   "cell_type": "code",
   "execution_count": 4,
   "metadata": {},
   "outputs": [],
   "source": [
    "def standardise(rdd):    \n",
    "    n_rows = rdd.count()\n",
    "    \n",
    "    col_sum = rdd.reduce(\n",
    "        lambda x, y:\n",
    "            [sum(el) for el in zip(x, y)]\n",
    "    )\n",
    "    mean = np.divide(col_sum, n_rows)\n",
    "    \n",
    "    variance = rdd.map(\n",
    "        lambda x: np.square(x - mean)\n",
    "    ).reduce(\n",
    "        lambda x, y:\n",
    "            [sum(el) for el in zip(x, y)]\n",
    "    )\n",
    "    std_dev = np.sqrt(np.divide(variance, n_rows))\n",
    "    \n",
    "    rdd = rdd.map(\n",
    "        lambda x:\n",
    "            np.divide((x - mean), std_dev)\n",
    "    )\n",
    "    \n",
    "    return rdd"
   ]
  },
  {
   "cell_type": "markdown",
   "metadata": {},
   "source": [
    "### Clustering process\n",
    "The clustering follows the typical K-Means fashion, with some adjustments to exploit the Spark parallelisation.  \n",
    "It is worth noting that the notation is consistent, and in particular:  \n",
    "* **rdd** is an RDD containing the records on operate the clustering;\n",
    "* **k** is the number of cluster setted to identify;  \n",
    "* **c** is a centroid (float array);  \n",
    "* **x** is the feature array of one data point (float array);  \n",
    "* **centroids** is the array of centroids (array of **c**);  \n",
    "\n",
    "In the first section there are the support functions for the proper clustering phase.  \n",
    "* `init_rdd()` intialises the rdd, assigning every record to the fake cluster *-1*;  \n",
    "* `init_centroids()` calculates and returns the intialised centroid array of **c**, either extracting random records from the rdd, or exctracting the first **k** records, depending on the user preferences;  \n",
    "* `calc_distance()` calculates the distance between a centroid **c** and a data point which features are in **x**; now only the *'euclidean'* distance is implemented;  \n",
    "* `assign_cluster()` calculates the appropriate cluster for a data point which features are in **x**, according to its distance to the current **centroids**;  \n",
    "* `refine_clusters()` assigns every element of an **rdd** to a specific cluster, according to the current **centroids**;  \n",
    "* `calculate_centroids()` calculates the position of the new centroids, by taking the mean position of all the elements in the **rdd** belonging to a specific cluser.  \n",
    "* `cluster_variance()` calculates the cumulative distance of every data point in the **rdd** with respect to the centroid of the cluster it belongs to.  \n",
    "\n",
    "**Note**: the distance selection, due to the many steps required until the reaching of the actual `calc_distance()` function, is passed as an additional argument in the previous functions."
   ]
  },
  {
   "cell_type": "code",
   "execution_count": 5,
   "metadata": {},
   "outputs": [],
   "source": [
    "def init_rdd(rdd):\n",
    "    rdd = rdd.map(\n",
    "        lambda x: (\n",
    "            -1,\n",
    "            x\n",
    "        )\n",
    "    )\n",
    "    return rdd\n",
    "\n",
    "\n",
    "def init_centroids(rdd, k, random=True):\n",
    "    if random:\n",
    "        return rdd.takeSample(False, k)\n",
    "    return rdd.take(k)\n",
    "    \n",
    "    \n",
    "def calc_distance(c, x, dist_type='euclidean'):\n",
    "    if dist_type == 'euclidean':\n",
    "        return np.linalg.norm(c - x)\n",
    "    else:\n",
    "        raise Exception('Distance Type not recognized.')\n",
    "        sys.exit()\n",
    "    \n",
    "    \n",
    "def assign_cluster(centroids, x, dist_type):\n",
    "    distances = [calc_distance(c, x, dist_type=dist_type) for c in centroids]\n",
    "    min_index = np.argmin(distances)    \n",
    "    return min_index\n",
    "\n",
    "\n",
    "def redefine_clusters(rdd, centroids, dist_type):\n",
    "    rdd = rdd.map(\n",
    "        lambda x: (\n",
    "            assign_cluster(centroids, x[1], dist_type),\n",
    "            x[1]\n",
    "        )\n",
    "    )\n",
    "    return rdd\n",
    "\n",
    "    \n",
    "def calculate_centroids(rdd):\n",
    "    centroids = rdd.map(\n",
    "        lambda x: (\n",
    "            x[0], (\n",
    "                x[1],\n",
    "                1\n",
    "            )\n",
    "        )\n",
    "    ).reduceByKey(\n",
    "        lambda x, y: (\n",
    "            x[0] + y[0],\n",
    "            x[1] + y[1]\n",
    "        )\n",
    "    ).map(\n",
    "        lambda x: (\n",
    "            x[0],\n",
    "            x[1][0] / x[1][1]\n",
    "        )\n",
    "    ).collect()\n",
    "    \n",
    "    centroids = [el[1] for el in sorted(centroids, key=itemgetter(0))]\n",
    "    return np.array(centroids)\n",
    "\n",
    "\n",
    "def cluster_tot_distance(rdd, centroids, dist_type):\n",
    "    distance = rdd.map(\n",
    "        lambda x: \n",
    "            calc_distance(centroids[x[0]], x[1], dist_type)\n",
    "    ).reduce(\n",
    "        lambda x, y:\n",
    "            x + y\n",
    "    )\n",
    "    \n",
    "    return distance    "
   ]
  },
  {
   "cell_type": "markdown",
   "metadata": {},
   "source": [
    "The proper clustering process takes the additional parameters:  \n",
    "* **iterations**, the maximum number of iterations to go though;\n",
    "* **tolerance**, the minimum cumulative distance the centroids have to move in a single iteration to not interrupt the process;  \n",
    "* **n_init**, the number of initialisations to repeat;  \n",
    "* **random_init**, deciding whether to randomly initialise the centroids. If set to *False*, for obvious reasons **n_init** is set to one.\n",
    "* **distance_metric** between centroids and data points. Right now only *'euclidean'* is implemented;\n",
    "* **verbose**, influencing the amount of information printed during the process;\n",
    "* **collect_results** is a flag to decide whether or not to collect in an array the final cluster labels. This is intoduced to allow the graphical comparison with the sklearn results at the end, for the small iris dataset. **DO NOT** collect results for big datasets: that would lead in the best case to a significant slowing of the processing, and may cause serious memory issues.\n",
    "\n",
    "The clusteiring phase proceeds inside the main iteration loop by redifing the clusters according the the current centroids, the calculating the new centroids according to the previous clusterisation. If the distance between the new and the old clusters is below the **tolerance** threshold, the process is considered converged and the loop in exited.  \n",
    "\n",
    "Another external loop manages how many times the whole process is to be repeatd, with different initializations. At each step, the cumulative distance, the predicted array and the centroid position is recorded and at the end only the ones related to the initialisation with less cuulative distance are returned."
   ]
  },
  {
   "cell_type": "code",
   "execution_count": 6,
   "metadata": {},
   "outputs": [],
   "source": [
    "def k_means(rdd_x, k, iterations=20, tolerance=0.001, \n",
    "            n_init=5, random_init=True, \n",
    "            distance_metric='euclidean', verbose=False,\n",
    "            collect_results=False\n",
    "           ):\n",
    "    if k > rdd_x.count():\n",
    "        print('Invalid K: too big!')\n",
    "        return\n",
    "    print('Starting: %d inits\\n' % \n",
    "          (n_init))\n",
    "    init_time = time.time()\n",
    "    cent_arr = []\n",
    "    distance_arr = []\n",
    "    \n",
    "    if collect_results:\n",
    "        y_arr = []\n",
    "        \n",
    "    if random_init == False:\n",
    "        n_init = 1\n",
    "    \n",
    "    for trial in range(n_init):\n",
    "        start_time = time.time()\n",
    "\n",
    "        centroids = init_centroids(rdd_x, k, random=random_init)\n",
    "        rdd = init_rdd(rdd_x)\n",
    "        n_rows = rdd.count()\n",
    "        for it in range(iterations):\n",
    "            rdd = redefine_clusters(rdd, centroids, distance_metric)\n",
    "\n",
    "            new_centroids = calculate_centroids(rdd)\n",
    "            \n",
    "            delta = np.linalg.norm(\n",
    "                new_centroids - centroids[:len(new_centroids)]\n",
    "            )\n",
    "            \n",
    "            if (delta < tolerance):\n",
    "                print('%d. Converged.\\t|\\t' % (trial + 1), end='')\n",
    "                break\n",
    "            centroids = new_centroids\n",
    "\n",
    "        # RDD collected only for displaying purposes!\n",
    "        # This collect is done to later efficiently plot the clustering results, \n",
    "        # since the amount of data we have is small enough.\n",
    "        # This collect is not part of the algorithm mechanics!\n",
    "        if collect_results:\n",
    "            y = rdd.map(\n",
    "                lambda x:\n",
    "                    x[0]\n",
    "            ).collect()\n",
    "            \n",
    "            y_arr.append(y)\n",
    "        \n",
    "        total_time = time.time() - start_time\n",
    "        cent_arr.append(centroids)\n",
    "        distance_arr.append(cluster_tot_distance(rdd, centroids, distance_metric))\n",
    "        print('Total distance: %0.2f\\t|\\tTime: %0.2fs' % \n",
    "              (distance_arr[-1], total_time)\n",
    "        )\n",
    "    \n",
    "    index = np.argmin(distance_arr)\n",
    "    finish_time = time.time() - init_time\n",
    "    \n",
    "    print('\\nFinished in %0.2f s.\\t|\\tChosen init %d.' %\n",
    "          (finish_time, (index + 1)))\n",
    "    if verbose:\n",
    "        [print('Cluster %d: %d' % (n, y.count(n))) \\\n",
    "            for n in sorted(np.unique(y))]\n",
    "    \n",
    "    if collect_results:\n",
    "        ret = (y_arr[index], cent_arr[index], finish_time)\n",
    "    else:\n",
    "        ret = (cent_arr[index], finish_time)\n",
    "        \n",
    "    return ret"
   ]
  },
  {
   "cell_type": "markdown",
   "metadata": {},
   "source": [
    "### Clustering Execution\n",
    "The following code starts the _Spark_ context with the proper number of workers, reads the file and standardises the records.  \n",
    "\n",
    "Afterwards, the clustering algorithm is run."
   ]
  },
  {
   "cell_type": "code",
   "execution_count": 7,
   "metadata": {},
   "outputs": [
    {
     "name": "stdout",
     "output_type": "stream",
     "text": [
      "Initialising Spark Context...\n",
      "Done.\n"
     ]
    }
   ],
   "source": [
    "if 'sc' in locals():\n",
    "    print('Restarting Spark Context...')\n",
    "    sc.stop()\n",
    "else:\n",
    "    print('Initialising Spark Context...')\n",
    "sc = pyspark.SparkContext('local[' + str(N_WORKERS) + ']')\n",
    "print('Done.')"
   ]
  },
  {
   "cell_type": "code",
   "execution_count": 13,
   "metadata": {},
   "outputs": [
    {
     "name": "stdout",
     "output_type": "stream",
     "text": [
      "Starting: 5 inits\n",
      "\n",
      "1. Converged.\t|\tTotal distance: 9943.27\t|\tTime: 6.21s\n",
      "2. Converged.\t|\tTotal distance: 9943.40\t|\tTime: 4.21s\n",
      "3. Converged.\t|\tTotal distance: 9943.40\t|\tTime: 6.14s\n",
      "4. Converged.\t|\tTotal distance: 13402.25\t|\tTime: 7.44s\n",
      "5. Converged.\t|\tTotal distance: 9943.40\t|\tTime: 4.20s\n",
      "\n",
      "Finished in 33.18 s.\t|\tChosen init 1.\n",
      "\n",
      "K-Means centroids:\n",
      "[[ 3.1058562   4.22957917]\n",
      " [-5.04130566  3.0270137 ]\n",
      " [ 1.09052756  2.06100662]]\n",
      "\n",
      "Real centroids:\n",
      "[(1, 2), (3, 4), (-5, 3)]\n"
     ]
    }
   ],
   "source": [
    "base_points, points = generate_points(3000)\n",
    "\n",
    "rdd = sc.parallelize(points).cache()\n",
    "\n",
    "# Standardisation is not needed, since all the points are generated from\n",
    "# the same normal distrubtion (same mean and especially same standard \n",
    "# deviation). Points are, as a consequence, distributed with the same\n",
    "# variance (ideally) in the dimensions of the feature space. The feature\n",
    "# space isotropy of K-Means is then not a problem.\n",
    "# Usually, standardization would be advisable.\n",
    "\n",
    "ctrds, tot_time = k_means(rdd, 3, random_init=True)\n",
    "\n",
    "print('\\nK-Means centroids:\\n' + str(ctrds))\n",
    "print('\\nReal centroids:\\n' + str(base_points))"
   ]
  },
  {
   "cell_type": "markdown",
   "metadata": {},
   "source": [
    "### Sklearn K-Means Comparison\n",
    "Here is executed the comparison with the results obtained by the K-Means implementation available in the Sklearn library.  \n",
    "Here the parallelized version of the algorithm is executed."
   ]
  },
  {
   "cell_type": "code",
   "execution_count": 9,
   "metadata": {},
   "outputs": [
    {
     "name": "stdout",
     "output_type": "stream",
     "text": [
      "Starting: 5 inits\n",
      "\n",
      "1. Converged.\t|\tTotal distance: 129.89\t|\tTime: 1.80s\n",
      "2. Converged.\t|\tTotal distance: 129.89\t|\tTime: 1.15s\n",
      "3. Converged.\t|\tTotal distance: 129.89\t|\tTime: 1.90s\n",
      "4. Converged.\t|\tTotal distance: 129.95\t|\tTime: 2.13s\n",
      "5. Converged.\t|\tTotal distance: 129.95\t|\tTime: 1.99s\n",
      "\n",
      "Finished in 9.44 s.\t|\tChosen init 1.\n"
     ]
    }
   ],
   "source": [
    "rdd_x, rdd_y = read_file(FILE_PATH)\n",
    "rdd_x = standardise(rdd_x)\n",
    "\n",
    "y, ctrds, tot_time = k_means(\n",
    "    rdd_x, \n",
    "    3, \n",
    "    random_init=True, \n",
    "    collect_results=True\n",
    ")"
   ]
  },
  {
   "cell_type": "markdown",
   "metadata": {},
   "source": [
    "The file is read again, this time using *Pandas*, and the clustering algorithm is applied.  \n",
    "The results are then plotted in the space composed by the first two features."
   ]
  },
  {
   "cell_type": "code",
   "execution_count": 10,
   "metadata": {},
   "outputs": [
    {
     "name": "stdout",
     "output_type": "stream",
     "text": [
      "0: 52, 1: 50, 2: 48\n"
     ]
    },
    {
     "data": {
      "image/png": "[encoded data removed]",
      "text/plain": [
       "<Figure size 432x288 with 1 Axes>"
      ]
     },
     "metadata": {
      "needs_background": "light"
     },
     "output_type": "display_data"
    }
   ],
   "source": [
    "from sklearn import preprocessing\n",
    "from sklearn.cluster import KMeans\n",
    "\n",
    "df = pd.read_csv(FILE_PATH + '.csv').iloc[:,:-1]\n",
    "x = df.values\n",
    "standard_scaler = preprocessing.StandardScaler()\n",
    "x = standard_scaler.fit_transform(x)\n",
    "\n",
    "km = KMeans(n_clusters=3)\n",
    "km.fit(x)\n",
    "y_kmeans = km.predict(x)\n",
    "\n",
    "plt.title('Sklearn implementation')\n",
    "plt.scatter(x[:, 0], x[:, 1], c=y_kmeans, s=50, cmap='viridis')\n",
    "ys = list(y_kmeans)\n",
    "print('0: %2d, 1: %2d, 2: %2d' % (ys.count(0), ys.count(1), ys.count(2)))\n",
    "\n",
    "centers = km.cluster_centers_\n",
    "plt.scatter(centers[:, 0], centers[:, 1], c='black', s=200, alpha=0.6);"
   ]
  },
  {
   "cell_type": "markdown",
   "metadata": {},
   "source": [
    "Here the results of the Spark K-Means algorithm are plotted, in order to have a meaningful graphical comparison with the results above."
   ]
  },
  {
   "cell_type": "code",
   "execution_count": 11,
   "metadata": {},
   "outputs": [
    {
     "data": {
      "image/png": "[encoded data removed]",
      "text/plain": [
       "<Figure size 432x288 with 1 Axes>"
      ]
     },
     "metadata": {
      "needs_background": "light"
     },
     "output_type": "display_data"
    }
   ],
   "source": [
    "plt.title('Spark implementation')\n",
    "plt.scatter(x[:, 0], x[:, 1], c=y, s=50, cmap='viridis')\n",
    "plt.scatter(ctrds[:, 0], ctrds[:, 1], c='black', s=200, alpha=0.6);"
   ]
  },
  {
   "cell_type": "markdown",
   "metadata": {},
   "source": [
    "As shown, the results are very similar, both regarding the position of the centroids and, of course, the clasification of the data points.  \n",
    "\n",
    "Finally, the cumulative distance of the Spark and K-Means centroids is calculated and printed."
   ]
  },
  {
   "cell_type": "code",
   "execution_count": 12,
   "metadata": {},
   "outputs": [
    {
     "name": "stdout",
     "output_type": "stream",
     "text": [
      "Total centroid distance error: 0.2847\n"
     ]
    }
   ],
   "source": [
    "centr_sklearn = np.array(sorted(centers, key=itemgetter(0)))\n",
    "centr_this = np.array(sorted(ctrds, key=itemgetter(0)))\n",
    "                       \n",
    "print('Total centroid distance error: %0.4f' %\n",
    "       np.sum(abs(centr_this - centr_sklearn)))"
   ]
  },
  {
   "cell_type": "markdown",
   "metadata": {},
   "source": [
    "End."
   ]
  }
 ],
 "metadata": {
  "kernelspec": {
   "display_name": "Python 3",
   "language": "python",
   "name": "python3"
  },
  "language_info": {
   "codemirror_mode": {
    "name": "ipython",
    "version": 3
   },
   "file_extension": ".py",
   "mimetype": "text/x-python",
   "name": "python",
   "nbconvert_exporter": "python",
   "pygments_lexer": "ipython3",
   "version": "3.7.4"
  }
 },
 "nbformat": 4,
 "nbformat_minor": 2
}
