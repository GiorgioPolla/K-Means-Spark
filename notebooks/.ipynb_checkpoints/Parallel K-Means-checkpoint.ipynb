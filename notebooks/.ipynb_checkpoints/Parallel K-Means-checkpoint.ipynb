{
 "cells": [
  {
   "cell_type": "markdown",
   "metadata": {},
   "source": [
    "# Parallel K-Means Clustering Algorithm on Spark\n",
    "\n",
    "Author: **Giorgio Polla**  \n",
    "Date: **21/11/2019**  \n",
    "\n",
    "Implementation of the K-Means clustering algorithm on Spark, with Python.  \n",
    "The algorithm is tested using the famous Iris dataset (available on Kaggle at https://www.kaggle.com/uciml/iris), and against Sklearn's implementation of K-Means.\n"
   ]
  },
  {
   "cell_type": "code",
   "execution_count": 1,
   "metadata": {},
   "outputs": [],
   "source": [
    "import pyspark\n",
    "import time\n",
    "import pandas as pd\n",
    "import numpy as np\n",
    "import matplotlib.pyplot as plt\n",
    "from operator import itemgetter\n",
    "from sklearn.cluster import KMeans\n",
    "from sklearn import preprocessing\n",
    "\n",
    "FILE_PATH = '../data/iris'"
   ]
  },
  {
   "cell_type": "code",
   "execution_count": 2,
   "metadata": {},
   "outputs": [],
   "source": [
    "sc = pyspark.SparkContext()"
   ]
  },
  {
   "cell_type": "code",
   "execution_count": 75,
   "metadata": {},
   "outputs": [],
   "source": [
    "def read_file(file_path):\n",
    "    rdd = sc.textFile(file_path)\n",
    "    \n",
    "    rdd = rdd.map(\n",
    "        lambda x:\n",
    "            x.split()\n",
    "    )\n",
    "    \n",
    "    rdd_x = rdd.map(\n",
    "        lambda x: \n",
    "            np.array([float(el) for el in x[:-1]])\n",
    "    )\n",
    "    \n",
    "    rdd_y = rdd.map(\n",
    "        lambda x:           \n",
    "            x[-1]\n",
    "    )\n",
    "    return rdd_x, rdd_y"
   ]
  },
  {
   "cell_type": "code",
   "execution_count": 76,
   "metadata": {},
   "outputs": [
    {
     "data": {
      "text/plain": [
       "array([5.1, 3.5, 1.4, 0.2])"
      ]
     },
     "execution_count": 76,
     "metadata": {},
     "output_type": "execute_result"
    }
   ],
   "source": [
    "rdd_x, rdd_y = read_file(FILE_PATH)\n",
    "rdd_x.first()"
   ]
  },
  {
   "cell_type": "code",
   "execution_count": 77,
   "metadata": {},
   "outputs": [],
   "source": [
    "def standardise(rdd):    \n",
    "    n_rows = rdd.count()\n",
    "    \n",
    "    col_sum = rdd.reduce(\n",
    "        lambda x, y:\n",
    "            [sum(el) for el in zip(x, y)]\n",
    "    )\n",
    "    mean = np.divide(col_sum, n_rows)\n",
    "    \n",
    "    variance = rdd.map(\n",
    "        lambda x: np.square(x - mean)\n",
    "    ).reduce(\n",
    "        lambda x, y:\n",
    "            [sum(el) for el in zip(x, y)]\n",
    "    )\n",
    "    std_dev = np.sqrt(np.divide(variance, n_rows))\n",
    "    \n",
    "    rdd = rdd.map(\n",
    "        lambda x:\n",
    "            np.divide((x - mean), std_dev)\n",
    "    )\n",
    "    \n",
    "    return rdd"
   ]
  },
  {
   "cell_type": "code",
   "execution_count": 78,
   "metadata": {},
   "outputs": [
    {
     "data": {
      "text/plain": [
       "array([-1.14301691, -0.1249576 , -1.3412724 , -1.31297673])"
      ]
     },
     "execution_count": 78,
     "metadata": {},
     "output_type": "execute_result"
    }
   ],
   "source": [
    "rdd_x = standardise(rdd_x)\n",
    "rdd_x.first()\n",
    "\n",
    "rdd_x.take(5)[1]"
   ]
  },
  {
   "cell_type": "code",
   "execution_count": 79,
   "metadata": {},
   "outputs": [],
   "source": [
    "def init_rdd(rdd):\n",
    "    rdd = rdd.map(\n",
    "        lambda x: (\n",
    "            -1,\n",
    "            x\n",
    "        )\n",
    "    )\n",
    "    return rdd\n",
    "    \n",
    "    \n",
    "def calc_distance(c, x):\n",
    "    return np.linalg.norm(c - x)\n",
    "    \n",
    "    \n",
    "def assign_cluster(centroids, x):\n",
    "    distances = [calc_distance(c, x) for c in centroids]\n",
    "    min_index = np.argmin(distances)    \n",
    "    return min_index\n",
    "\n",
    "\n",
    "def init_centroids(rdd, k, random):\n",
    "    if random:\n",
    "        return rdd.takeSample(False, k)\n",
    "    return rdd.take(k)\n",
    "\n",
    "\n",
    "def redefine_clusters(rdd, centroids):\n",
    "    rdd = rdd.map(\n",
    "        lambda x: (\n",
    "            assign_cluster(centroids, x[1]),\n",
    "            x[1]\n",
    "        )\n",
    "    )\n",
    "    return rdd\n",
    "\n",
    "    \n",
    "def calculate_centroids(rdd):\n",
    "    centroids = rdd.map(\n",
    "        lambda x: (\n",
    "            x[0], (\n",
    "                x[1],\n",
    "                1\n",
    "            )\n",
    "        )\n",
    "    ).reduceByKey(\n",
    "        lambda x, y: (\n",
    "            x[0] + y[0],\n",
    "            x[1] + y[1]\n",
    "        )\n",
    "    ).map(\n",
    "        lambda x: [\n",
    "            x[0],\n",
    "            x[1][0] / x[1][1]\n",
    "        ]\n",
    "    ).collect()\n",
    "    \n",
    "    centroids = [el[1] for el in sorted(centroids, key=itemgetter(0))]\n",
    "    return np.array(centroids)\n",
    "\n",
    "\n",
    "def cluster_variance(rdd, centroids):\n",
    "    variance = rdd.map(\n",
    "        lambda x: \n",
    "            calc_distance(centroids[x[0]], x[1])\n",
    "    ).reduce(\n",
    "        lambda x, y:\n",
    "            x + y\n",
    "    )\n",
    "    \n",
    "    return variance\n",
    "    "
   ]
  },
  {
   "cell_type": "code",
   "execution_count": 87,
   "metadata": {},
   "outputs": [],
   "source": [
    "def k_means(rdd_x, k, iterations=20, tolerance=0.001, \n",
    "            n_init=5, random_init=True, verbose=False):\n",
    "    if k > rdd_x.count():\n",
    "        print('Invalid K: too big!')\n",
    "        return\n",
    "    print('Starting: %d inits.' % n_init)\n",
    "    y_arr = []\n",
    "    cent_arr = []\n",
    "    variance_arr = []\n",
    "    \n",
    "    if random_init == False:\n",
    "        n_init = 1\n",
    "    \n",
    "    for trial in range(n_init):\n",
    "        start_time = time.time()\n",
    "\n",
    "        centroids = init_centroids(rdd_x, k, random=random_init)\n",
    "        rdd = init_rdd(rdd_x)\n",
    "        n_rows = rdd.count()\n",
    "        for it in range(iterations):\n",
    "            rdd = redefine_clusters(rdd, centroids)\n",
    "\n",
    "            new_centroids = calculate_centroids(rdd)\n",
    "            \n",
    "            delta = np.linalg.norm(\n",
    "                new_centroids - centroids[:len(new_centroids)]\n",
    "            )\n",
    "            \n",
    "            if (delta < tolerance):\n",
    "                print('%d. Converged.\\t|\\t' % (trial + 1), end='')\n",
    "                break\n",
    "            centroids = new_centroids\n",
    "\n",
    "            if verbose and it % 5 == 0:\n",
    "                print('It: %2d\\t|\\tDelta: %0.4f' % (it, delta))\n",
    "\n",
    "        y = rdd.map(\n",
    "            lambda x:\n",
    "                x[0]\n",
    "        ).collect()\n",
    "        \n",
    "        total_time = time.time() - start_time\n",
    "        \n",
    "        y_arr.append(y)\n",
    "        cent_arr.append(centroids)\n",
    "        variance_arr.append(cluster_variance(rdd, centroids))\n",
    "        print('Variance: %0.2f\\t|\\tTime: %0.2fs' % \n",
    "              (variance_arr[-1], total_time)\n",
    "        )\n",
    "    \n",
    "    index = np.argmin(variance_arr)\n",
    "    \n",
    "    print('Chosen init %d.' % (index + 1))\n",
    "        \n",
    "    return y_arr[index], cent_arr[index]"
   ]
  },
  {
   "cell_type": "code",
   "execution_count": 94,
   "metadata": {},
   "outputs": [
    {
     "name": "stdout",
     "output_type": "stream",
     "text": [
      "Starting: 5 inits.\n",
      "1. Converged.\t|\tVariance: 129.58\t|\tTime: 0.79s\n",
      "2. Converged.\t|\tVariance: 129.58\t|\tTime: 1.88s\n",
      "3. Converged.\t|\tVariance: 129.62\t|\tTime: 2.47s\n",
      "4. Converged.\t|\tVariance: 129.89\t|\tTime: 1.53s\n",
      "5. Converged.\t|\tVariance: 129.95\t|\tTime: 1.60s\n",
      "Chosen init 1.\n",
      "50 51 49 "
     ]
    }
   ],
   "source": [
    "y, ctrd = k_means(rdd_x, 3, random_init=True)\n",
    "\n",
    "_ = [print(y.count(n), end =' ') for n in np.unique(y)]"
   ]
  },
  {
   "cell_type": "markdown",
   "metadata": {},
   "source": [
    "### Sklearn K-Means\n",
    "Comparison with the results obtained by the K-Means implementation available in the Sklearn library."
   ]
  },
  {
   "cell_type": "code",
   "execution_count": 95,
   "metadata": {},
   "outputs": [
    {
     "name": "stdout",
     "output_type": "stream",
     "text": [
      "0: 53, 1: 50, 2: 47\n"
     ]
    },
    {
     "data": {
      "image/png": "[encoded data removed]",
      "text/plain": [
       "<Figure size 432x288 with 1 Axes>"
      ]
     },
     "metadata": {
      "needs_background": "light"
     },
     "output_type": "display_data"
    }
   ],
   "source": [
    "df = pd.read_csv(FILE_PATH + '.csv').iloc[:,:-1]\n",
    "x = df.values\n",
    "standard_scaler = preprocessing.StandardScaler()\n",
    "x = standard_scaler.fit_transform(x)\n",
    "\n",
    "km = KMeans(n_clusters=3)\n",
    "km.fit(x)\n",
    "y_kmeans = km.predict(x)\n",
    "\n",
    "plt.scatter(x[:, 0], x[:, 1], c=y_kmeans, s=50, cmap='viridis')\n",
    "ys = list(y_kmeans)\n",
    "print('0: %2d, 1: %2d, 2: %2d' % (ys.count(0), ys.count(1), ys.count(2)))\n",
    "\n",
    "centers = km.cluster_centers_\n",
    "plt.scatter(centers[:, 0], centers[:, 1], c='black', s=200, alpha=0.5);"
   ]
  },
  {
   "cell_type": "code",
   "execution_count": 96,
   "metadata": {},
   "outputs": [
    {
     "data": {
      "image/png": "[encoded data removed]",
      "text/plain": [
       "<Figure size 432x288 with 1 Axes>"
      ]
     },
     "metadata": {
      "needs_background": "light"
     },
     "output_type": "display_data"
    }
   ],
   "source": [
    "plt.scatter(x[:, 0], x[:, 1], c=y, s=50, cmap='viridis')\n",
    "\n",
    "plt.scatter(ctrd[:, 0], ctrd[:, 1], c='black', s=200, alpha=0.5);"
   ]
  },
  {
   "cell_type": "markdown",
   "metadata": {},
   "source": [
    "As shown by the plotted graphs, the results obtained are very similar.  \n",
    "The centroid are almost in the same exact positions."
   ]
  },
  {
   "cell_type": "code",
   "execution_count": 97,
   "metadata": {},
   "outputs": [
    {
     "name": "stdout",
     "output_type": "stream",
     "text": [
      "Total centroid error: 0.2838\n",
      "0\n",
      "0\n",
      "39\n",
      "0.26\n"
     ]
    }
   ],
   "source": [
    "\n",
    "centr_sklearn = np.array(sorted(centers, key=itemgetter(0)))\n",
    "centr_this = np.array(sorted(ctrd, key=itemgetter(0)))\n",
    "                       \n",
    "print('Total centroid error: %0.4f' %\n",
    "       np.sum(abs(centr_this - centr_sklearn)))\n",
    "\n",
    "y1 = y[:50]\n",
    "y2 = y[50:100]\n",
    "y3 = y[100:]\n",
    "print(y1.count(2))\n",
    "print(y2.count(0))\n",
    "print(y3.count(1))\n",
    "\n",
    "acc = (y1.count(2) + y2.count(0) + y3.count(1)) / 150\n",
    "print(acc)"
   ]
  },
  {
   "cell_type": "code",
   "execution_count": null,
   "metadata": {},
   "outputs": [],
   "source": []
  }
 ],
 "metadata": {
  "kernelspec": {
   "display_name": "Python 3",
   "language": "python",
   "name": "python3"
  },
  "language_info": {
   "codemirror_mode": {
    "name": "ipython",
    "version": 3
   },
   "file_extension": ".py",
   "mimetype": "text/x-python",
   "name": "python",
   "nbconvert_exporter": "python",
   "pygments_lexer": "ipython3",
   "version": "3.7.4"
  }
 },
 "nbformat": 4,
 "nbformat_minor": 2
}
